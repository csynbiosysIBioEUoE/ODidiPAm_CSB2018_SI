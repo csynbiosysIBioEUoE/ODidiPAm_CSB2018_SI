{
 "cells": [
  {
   "cell_type": "markdown",
   "metadata": {},
   "source": [
    "Import required libraries"
   ]
  },
  {
   "cell_type": "code",
   "execution_count": null,
   "metadata": {
    "collapsed": false
   },
   "outputs": [],
   "source": [
    "from sys import argv\n",
    "import numpy as np\n",
    "import pandas as pd\n",
    "import seaborn as sns\n",
    "import matplotlib.pyplot as plt\n",
    "sns.set(style=\"ticks\")"
   ]
  },
  {
   "cell_type": "markdown",
   "metadata": {},
   "source": [
    "Import and concatenate data for input visualization"
   ]
  },
  {
   "cell_type": "code",
   "execution_count": null,
   "metadata": {
    "collapsed": false
   },
   "outputs": [],
   "source": [
    "Step = pd.read_csv('InduciblePromoter_Step.csv', delimiter=\",\")\n",
    "Pulse = pd.read_csv('InduciblePromoter_Pulse.csv', delimiter=\",\")\n",
    "Random = pd.read_csv('InduciblePromoter_Random.csv', delimiter=\",\")\n",
    "Optimised = pd.read_csv('InduciblePromoter_OptimisedValues_eSS.csv', delimiter=\",\")\n",
    "\n",
    "Data = pd.concat([Step, Pulse, Random, Optimised])\n",
    "print(Data)"
   ]
  },
  {
   "cell_type": "markdown",
   "metadata": {},
   "source": [
    "Extract information relative to the parameter fit after 50 hours of experiment"
   ]
  },
  {
   "cell_type": "code",
   "execution_count": null,
   "metadata": {
    "collapsed": false,
    "scrolled": false
   },
   "outputs": [],
   "source": [
    "SubData_50 = Data.query('hour == 50')\n",
    "SubData_50_type = SubData_50.query('type == \"PARAM_FIT\"')"
   ]
  },
  {
   "cell_type": "markdown",
   "metadata": {},
   "source": [
    "Add to the dataframe a column with the relative error"
   ]
  },
  {
   "cell_type": "code",
   "execution_count": null,
   "metadata": {
    "collapsed": false,
    "scrolled": true
   },
   "outputs": [],
   "source": [
    "d = SubData_50_type.set_index('runName') # set the name of the run as index to the dataframe\n",
    "d['abslog2Ratio'] = np.absolute(np.log2(d['value']/d['trueValue']))   # add a column to the dataframe with the absolute value of the log2-ratio between estimate and true parameter value, for each experiment\n",
    "Data_50_type_update = d.reset_index()\n"
   ]
  },
  {
   "cell_type": "code",
   "execution_count": null,
   "metadata": {
    "collapsed": false
   },
   "outputs": [],
   "source": [
    "print(Data_50_type_update)"
   ]
  },
  {
   "cell_type": "markdown",
   "metadata": {},
   "source": [
    "Import the data required for panel a) Example of optimised input trace, pseudo-data and response of the fitted model to this data"
   ]
  },
  {
   "cell_type": "code",
   "execution_count": null,
   "metadata": {
    "collapsed": true
   },
   "outputs": [],
   "source": [
    "# Load pseudo experimental data\n",
    "PseudoData_Opt = pd.read_csv('PseudoExperimentalData_OpteSS.csv', delimiter=\",\")\n",
    "\n",
    "# Load input trace\n",
    "Input_Opt = pd.read_csv('Input_OpteSS.csv', delimiter=\",\")\n",
    "\n",
    "# Load simulated output\n",
    "SimPseudo_Opt = pd.read_csv('SimulationPseudo_OpteSS.csv', delimiter=\",\")"
   ]
  },
  {
   "cell_type": "markdown",
   "metadata": {},
   "source": [
    "Code for figure 4"
   ]
  },
  {
   "cell_type": "code",
   "execution_count": null,
   "metadata": {
    "collapsed": false,
    "scrolled": false
   },
   "outputs": [],
   "source": [
    "import matplotlib.gridspec as gridspec\n",
    "fig = plt.figure(figsize=(6.8, 5.8), dpi = 600)\n",
    "sns.set_context(\"paper\", rc={\"font.size\":8,\"axes.titlesize\":8,\"axes.labelsize\":8,\"axes.tickslabelssize\":8,\"text.usetex\" : True,\"text.latex.unicode\" : True})  \n",
    "pal = dict(alpha1='#fff7f3', Vm1 = '#fde0dd',h1 = '#fcc5c0', Km1 = '#fa9fb5', d1 ='#f768a1' , alpha2 = '#dd3497', d2 ='#ae017e' ,Kf='#7a0177' )\n",
    "\n",
    "gs0 = gridspec.GridSpec(2, 1)\n",
    "gs0.update(left=0.05, right=0.35)\n",
    "ax0 = plt.subplot(gs0[0, :])\n",
    "\n",
    "\n",
    "#------> Plot of prototype of optimised input(ax1), experimental data and output (ax0)\n",
    "ax0.plot(np.array(SimPseudo_Opt['Var1']),np.array(SimPseudo_Opt['Citrine_molec_opt']),color =(0/255, 166/255, 80/255),linewidth = 1.2)\n",
    "# plot Pseudodata\n",
    "ax0.scatter(np.array(PseudoData_Opt['Var1']),np.array(PseudoData_Opt['Citrine_molec_opt']),marker = '.',color=(0/255, 166/255, 80/255),s =15)#, alpha = 0.5)\n",
    "ax0.tick_params(length=2)\n",
    "#ax0.set_ylabel('Citrine (molecules)', color = (0/255, 166/255, 80/255))\n",
    "ax0.tick_params('y', colors=(0/255, 166/255, 80/255))\n",
    "ax0.set_yticks([200,400,600,800,1000,1200])\n",
    "ax0.set_yticklabels(('0.2','0.4','0.6','0.8','1','1.2'))\n",
    "ax0.set_ylabel('Citrine ($10^3$ molecules)',color = (0/255, 166/255, 80/255))\n",
    "ax0.set_xlabel('Time (hours)')\n",
    "\n",
    "#---\n",
    "ax1 = ax0.twinx()\n",
    "ax1.plot(np.array(Input_Opt['Var1']),np.array(Input_Opt['Var2']),color =(237/255, 28/255, 36/255),linewidth = 1)\n",
    "#ax1.set_ylabel('IPTG ($\\mu$M)', color=(237/255, 28/255, 36/255))\n",
    "ax1.tick_params('y', colors=(237/255, 28/255, 36/255))\n",
    "ax1.tick_params(length=2)\n",
    "\n",
    "ax1.spines['top'].set_visible(False)\n",
    "ax1.spines['bottom'].set_visible(False)\n",
    "ax1.spines['left'].set_visible(False)\n",
    "ax1.set_yticks([0,200,400,600,800,1000])\n",
    "ax1.set_yticklabels(('0','0.2','0.4','0.6','0.8','1'))\n",
    "ax1.set_ylabel('IPTG ($10^3 \\mu$M)',color = (237/255, 28/255, 36/255),rotation = -90)\n",
    "\n",
    "#------> Bar plot of average relative error \n",
    "pal1 = dict(S='#e6f5c9', P = '#fff2ae',R = '#bebada', O = '#fcbba1')\n",
    "#dict(S='#5e3c99', P = '#b2abd2',R = '#fdb863', O = '#fcbba1')#8dd3c7\n",
    "#ffffb3\n",
    "#bebada\n",
    "ax2 = plt.subplot(gs0[1, :])\n",
    "ax2 = plt.axhline(y=0,c = 'black',linewidth = 0.5)\n",
    "ax2 = sns.barplot(data = Data_50_type_update,x = \"exptName\",y = \"abslog2Ratio\",order =['S','P','R','O'], palette = pal1,edgecolor = 'black',errwidth = 0.8,alpha=.8)\n",
    "ax2.spines['top'].set_visible(False)\n",
    "ax2.spines['right'].set_visible(False)\n",
    "ax2.tick_params(length=2)\n",
    "ax2.set_xticklabels(('Step','Pulse','Random','Optimised'),rotation = -10)\n",
    "ax2.set_xlabel('Input class')\n",
    "ax2.set_ylabel(r'$\\bar{\\varepsilon}$ (-)',rotation = 0)\n",
    "\n",
    "#------> Box+Swarm plot of relative error for each input class and parameter\n",
    "gs1 = gridspec.GridSpec(4, 1)\n",
    "gs1.update(left=0.55, hspace=0.1)#0.05\n",
    "\n",
    "ax3 = plt.subplot(gs1[0, :])\n",
    "ax3 = plt.axhline(y=0,c='b',linewidth=1)\n",
    "ax3 = sns.swarmplot(Data_50_type_update.loc[Data_50_type_update['exptName'] == \"S\",'param'],Data_50_type_update.loc[Data_50_type_update['exptName'] == \"S\",'abslog2Ratio'],order = ['alpha1','Vm1','h1','Km1','d1','alpha2','d2','Kf'],size=2, color=\"k\", linewidth=0,alpha = .2)\n",
    "ax3 = sns.boxplot(Data_50_type_update.loc[Data_50_type_update['exptName'] == \"S\",'param'],Data_50_type_update.loc[Data_50_type_update['exptName'] == \"S\",'abslog2Ratio'],palette = pal,fliersize = 0,linewidth=0.5)\n",
    "ax3.spines['right'].set_visible(False)\n",
    "ax3.spines['top'].set_visible(False)\n",
    "ax3.tick_params(length=2)\n",
    "ax3.set_ylabel('')\n",
    "ax3.set_title('Step',y = 0.85)\n",
    "\n",
    "ax4 = plt.subplot(gs1[1, :])\n",
    "ax4 = plt.axhline(y=0,c='b',linewidth=1)\n",
    "ax4 = sns.swarmplot(Data_50_type_update.loc[Data_50_type_update['exptName'] == \"P\",'param'],Data_50_type_update.loc[Data_50_type_update['exptName'] == \"P\",'abslog2Ratio'],order = ['alpha1','Vm1','h1','Km1','d1','alpha2','d2','Kf'],size=2, color=\"k\", linewidth=0,alpha = .2)\n",
    "ax4 = sns.boxplot(Data_50_type_update.loc[Data_50_type_update['exptName'] == \"P\",'param'],Data_50_type_update.loc[Data_50_type_update['exptName'] == \"P\",'abslog2Ratio'],palette = pal,fliersize = 0,linewidth=0.5)\n",
    "ax4.spines['right'].set_visible(False)\n",
    "ax4.spines['top'].set_visible(False)\n",
    "ax4.tick_params(length=2)\n",
    "ax4.set_ylabel('')\n",
    "ax4.set_title('Pulse',y = 0.85)\n",
    "\n",
    "ax4.text(-2.5, -0.5, r'$\\varepsilon$(-)')\n",
    "\n",
    "\n",
    "ax5 = plt.subplot(gs1[2, :])\n",
    "ax5 = plt.axhline(y=0,c='b',linewidth=1)\n",
    "ax5 = sns.swarmplot(Data_50_type_update.loc[Data_50_type_update['exptName'] == \"R\",'param'],Data_50_type_update.loc[Data_50_type_update['exptName'] == \"R\",'abslog2Ratio'],order = ['alpha1','Vm1','h1','Km1','d1','alpha2','d2','Kf'],size=2, color=\"k\", linewidth=0,alpha = .2)\n",
    "ax5 = sns.boxplot(Data_50_type_update.loc[Data_50_type_update['exptName'] == \"R\",'param'],Data_50_type_update.loc[Data_50_type_update['exptName'] == \"R\",'abslog2Ratio'],palette = pal,fliersize = 0,linewidth=0.5)\n",
    "ax5.spines['right'].set_visible(False)\n",
    "ax5.spines['top'].set_visible(False)\n",
    "ax5.tick_params(length=2)\n",
    "ax5.set_ylabel('')\n",
    "ax5.set_title('Random',y = 0.85)\n",
    "\n",
    "\n",
    "ax6 = plt.subplot(gs1[3, :])\n",
    "ax6 = plt.axhline(y=0,c='b',linewidth=1)\n",
    "ax6 = sns.swarmplot(Data_50_type_update.loc[Data_50_type_update['exptName'] == \"O\",'param'],Data_50_type_update.loc[Data_50_type_update['exptName'] == \"O\",'abslog2Ratio'],order = ['alpha1','Vm1','h1','Km1','d1','alpha2','d2','Kf'],size=2, color=\"k\", linewidth=0,alpha = .2)\n",
    "ax6 = sns.boxplot(Data_50_type_update.loc[Data_50_type_update['exptName'] == \"O\",'param'],Data_50_type_update.loc[Data_50_type_update['exptName'] == \"O\",'abslog2Ratio'],palette = pal,fliersize = 0,linewidth=0.5)\n",
    "ax6.spines['right'].set_visible(False)\n",
    "ax6.spines['top'].set_visible(False)\n",
    "ax6.tick_params(length=2)\n",
    "ax6.set_xticklabels([r'$\\alpha$',r'$v$',r'$h$',r'$K_{r}$',r'$\\gamma$',r'$k_{p}$',r'$\\gamma_{f}$',r'$k_{f}$'])\n",
    "ax6.set_xlabel('Parameter')\n",
    "ax6.set_ylabel('')\n",
    "ax6.set_title('Optimised',y = 0.85)\n",
    "\n",
    "\n",
    "\n",
    "for ax in [ax3, ax4,ax5]:\n",
    "    plt.setp(ax.get_xticklabels(), visible=False)\n",
    "    ax.set_xlabel('')\n",
    "\n",
    "\n",
    "\n",
    "plt.show()\n"
   ]
  }
 ],
 "metadata": {
  "anaconda-cloud": {},
  "kernelspec": {
   "display_name": "Python [default]",
   "language": "python",
   "name": "python3"
  },
  "language_info": {
   "codemirror_mode": {
    "name": "ipython",
    "version": 3
   },
   "file_extension": ".py",
   "mimetype": "text/x-python",
   "name": "python",
   "nbconvert_exporter": "python",
   "pygments_lexer": "ipython3",
   "version": "3.5.2"
  }
 },
 "nbformat": 4,
 "nbformat_minor": 1
}
