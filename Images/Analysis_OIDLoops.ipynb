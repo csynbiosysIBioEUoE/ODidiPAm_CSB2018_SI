{
 "cells": [
  {
   "cell_type": "markdown",
   "metadata": {},
   "source": [
    "Import required libraries"
   ]
  },
  {
   "cell_type": "code",
   "execution_count": null,
   "metadata": {
    "collapsed": false
   },
   "outputs": [],
   "source": [
    "from sys import argv\n",
    "import numpy as np\n",
    "import pandas as pd\n",
    "import seaborn as sns\n",
    "import matplotlib.pyplot as plt\n",
    "import matplotlib.ticker\n",
    "sns.set(style=\"ticks\")"
   ]
  },
  {
   "cell_type": "markdown",
   "metadata": {},
   "source": [
    "Import data for input visualization"
   ]
  },
  {
   "cell_type": "code",
   "execution_count": null,
   "metadata": {
    "collapsed": false,
    "scrolled": true
   },
   "outputs": [],
   "source": [
    "Data_OID = pd.read_csv('Data_OID_Loops_CSB_Reduced.csv', delimiter=\",\")\n"
   ]
  },
  {
   "cell_type": "code",
   "execution_count": null,
   "metadata": {
    "collapsed": false,
    "scrolled": true
   },
   "outputs": [],
   "source": [
    "SubData_OID_50 = Data_OID.query('hour == 50')\n",
    "SubData_OID_50_type = SubData_OID_50.query('type == \"PARAM_FIT\"')\n",
    "SubData_OID_50_type.trueValue.unique()\n"
   ]
  },
  {
   "cell_type": "code",
   "execution_count": null,
   "metadata": {
    "collapsed": false
   },
   "outputs": [],
   "source": [
    "d = SubData_OID_50_type.set_index('runName') # set the name of the run as index to the dataframe\n",
    "d['abslog2Ratio'] = np.absolute(np.log2(d['value']/d['trueValue']))   # add a column to the dataframe with the absolute value of the log2-ratio between estimate and true parameter value, for each experiment\n",
    "d['log2Ratio'] = np.log2(d['value']/d['trueValue'])   # add a column to the dataframe with the absolute value of the log2-ratio between estimate and true parameter value, for each experiment\n",
    "\n",
    "SubData_OID_50_type_update = d.reset_index()\n",
    "\n"
   ]
  },
  {
   "cell_type": "code",
   "execution_count": null,
   "metadata": {
    "collapsed": false,
    "scrolled": true
   },
   "outputs": [],
   "source": [
    "SubData_OID_50_type_update.loc[SubData_OID_50_type_update['numLoops']==1,'LoopsLabel'] = 'O1'\n",
    "SubData_OID_50_type_update.loc[SubData_OID_50_type_update['numLoops']==3,'LoopsLabel'] = 'O3'\n",
    "SubData_OID_50_type_update.loc[SubData_OID_50_type_update['numLoops']==5,'LoopsLabel'] = 'O5'\n"
   ]
  },
  {
   "cell_type": "markdown",
   "metadata": {},
   "source": [
    "Now extracting the dataframe for the convergence"
   ]
  },
  {
   "cell_type": "code",
   "execution_count": null,
   "metadata": {
    "collapsed": false
   },
   "outputs": [],
   "source": [
    "SubData_OID_type = Data_OID.query('type == \"PARAM_FIT\"')\n",
    "d = SubData_OID_type.set_index('runName') # set the name of the run as index to the dataframe\n",
    "d['abslog2Ratio'] = np.absolute(np.log2(d['value']/d['trueValue']))   # add a column to the dataframe with the absolute value of the log2-ratio between estimate and true parameter value, for each experiment\n",
    "d['log2Ratio'] = np.log2(d['value']/d['trueValue'])   # add a column to the dataframe with the absolute value of the log2-ratio between estimate and true parameter value, for each experiment\n",
    "\n",
    "SubData_OID_type_update = d.reset_index()\n",
    "SubData_OID_type_update.loc[SubData_OID_type_update['numLoops']==1,'LoopsLabel'] = 'O1'\n",
    "SubData_OID_type_update.loc[SubData_OID_type_update['numLoops']==3,'LoopsLabel'] = 'O3'\n",
    "SubData_OID_type_update.loc[SubData_OID_type_update['numLoops']==5,'LoopsLabel'] = 'O5'\n"
   ]
  },
  {
   "cell_type": "code",
   "execution_count": null,
   "metadata": {
    "collapsed": false
   },
   "outputs": [],
   "source": [
    "import matplotlib.gridspec as gridspec\n",
    "fig = plt.figure(figsize=(6.8, 5.8), dpi = 600)\n",
    "sns.set_context(\"paper\", rc={\"font.size\":8,\"axes.titlesize\":8,\"axes.labelsize\":8,\"axes.tickslabelssize\":8,\"text.usetex\" : True,\"text.latex.unicode\" : True})  \n",
    "pal = dict(alpha1='#fff7f3', Vm1 = '#fde0dd',h1 = '#fcc5c0', Km1 = '#fa9fb5', d1 ='#f768a1' , alpha2 = '#dd3497', d2 ='#ae017e' ,Kf='#7a0177' )\n",
    "\n",
    "gs0 = gridspec.GridSpec(2, 1)\n",
    "gs0.update(left=0.05, right=0.35)\n",
    "ax0 = plt.subplot(gs0[0, :])\n",
    "\n",
    "\n",
    "#------> Bar plot of average relative error \n",
    "pal1 = dict(O1='#fcbba1', O3 = '#fb6a4a',O5 = '#cb181d')\n",
    "import matplotlib.patches as patches\n",
    "ax0 = plt.subplot(gs0[0, :])\n",
    "#ax0 = plt.axhline(y=0,c = 'black',linewidth = 0.5)\n",
    "ax0.add_patch(patches.Rectangle((-0.5,0),1,0.5,alpha = .05))\n",
    "ax0 = sns.barplot(data = SubData_OID_50_type_update,x = \"LoopsLabel\",y = \"abslog2Ratio\",order =['O1','O3','O5'], palette = pal1,edgecolor = 'black',errwidth = 0.8,alpha=.8)\n",
    "ax0.spines['top'].set_visible(False)\n",
    "ax0.spines['right'].set_visible(False)\n",
    "ax0.tick_params(length=2)\n",
    "ax0.set_xticklabels(('1','3','5'),rotation = 0)\n",
    "ax0.set_xlabel('OID Loops')\n",
    "ax0.set_ylabel(r'$\\bar{\\varepsilon}$ (-)',rotation = 0)\n",
    "\n",
    "#------> Convergence rate of the average error\n",
    "ax2 = plt.subplot(gs0[1, :])\n",
    "ax2 = sns.pointplot(x='hour', y='abslog2Ratio',hue= 'LoopsLabel', data=SubData_OID_type_update,sharey=False,marker = '.',scale = 0.7,errwidth=2,palette=['#fcbba1','#fb6a4a','#cb181d'],alpha=.8)#,line_kws=line_kws)\n",
    "ax2.spines['top'].set_visible(False)\n",
    "ax2.spines['right'].set_visible(False)\n",
    "ax2.tick_params(length=2)\n",
    "ax2.set_xlabel('Time (hours)')\n",
    "ax2.set_ylabel(r'$\\bar{\\varepsilon}$ (-)',rotation = 0)\n",
    "\n",
    "\n",
    "#------> Box+Swarm plot of relative error for each input class and parameter\n",
    "gs1 = gridspec.GridSpec(3, 1)\n",
    "gs1.update(left=0.55, hspace=0.1)#0.05\n",
    "\n",
    "ax3 = plt.subplot(gs1[0, :])\n",
    "ax3.add_patch(patches.Rectangle((-0.5,-0.5),8.5,4.5,alpha = .05))\n",
    "ax3 = plt.axhline(y=0,c='b',linewidth=1)\n",
    "ax3 = sns.swarmplot(SubData_OID_50_type_update.loc[SubData_OID_50_type_update['LoopsLabel'] == \"O1\",'param'],SubData_OID_50_type_update.loc[SubData_OID_50_type_update['LoopsLabel'] == \"O1\",'abslog2Ratio'],order = ['alpha1','Vm1','h1','Km1','d1','alpha2','d2','Kf'],size=2, color=\"k\", linewidth=0,alpha = .2)\n",
    "ax3 = sns.boxplot(SubData_OID_50_type_update.loc[SubData_OID_50_type_update['LoopsLabel'] == \"O1\",'param'],SubData_OID_50_type_update.loc[SubData_OID_50_type_update['LoopsLabel'] == \"O1\",'abslog2Ratio'],palette = pal,fliersize = 0,linewidth=0.5)\n",
    "ax3.spines['right'].set_visible(False)\n",
    "ax3.spines['top'].set_visible(False)\n",
    "ax3.tick_params(length=2)\n",
    "ax3.set_xticklabels('')\n",
    "ax3.set_ylabel('')\n",
    "ax3.set_ylim([-0.5,4])\n",
    "ax3.set_title('1 Loop',y = 0.85)\n",
    "\n",
    "ax4 = plt.subplot(gs1[1, :])\n",
    "ax4 = plt.axhline(y=0,c='b',linewidth=1)\n",
    "ax4 = sns.swarmplot(SubData_OID_50_type_update.loc[SubData_OID_50_type_update['LoopsLabel'] == \"O3\",'param'],SubData_OID_50_type_update.loc[SubData_OID_50_type_update['LoopsLabel'] == \"O3\",'abslog2Ratio'],order = ['alpha1','Vm1','h1','Km1','d1','alpha2','d2','Kf'],size=2, color=\"k\", linewidth=0,alpha = .2)\n",
    "ax4 = sns.boxplot(SubData_OID_50_type_update.loc[SubData_OID_50_type_update['LoopsLabel'] == \"O3\",'param'],SubData_OID_50_type_update.loc[SubData_OID_50_type_update['LoopsLabel'] == \"O3\",'abslog2Ratio'],palette = pal,fliersize = 0,linewidth=0.5)\n",
    "ax4.spines['right'].set_visible(False)\n",
    "ax4.spines['top'].set_visible(False)\n",
    "ax4.tick_params(length=2)\n",
    "ax4.set_xticklabels('')\n",
    "ax4.set_ylabel('')\n",
    "ax4.set_title('3 Loops',y = 0.85)\n",
    "ax4.set_ylim([-0.5,4])\n",
    "\n",
    "ax4.text(-2.5, -0.5, r'$\\varepsilon$(-)')\n",
    "\n",
    "\n",
    "ax5 = plt.subplot(gs1[2, :])\n",
    "ax5 = plt.axhline(y=0,c='b',linewidth=1)\n",
    "ax5 = sns.swarmplot(SubData_OID_50_type_update.loc[SubData_OID_50_type_update['LoopsLabel'] == \"O5\",'param'],SubData_OID_50_type_update.loc[SubData_OID_50_type_update['LoopsLabel'] == \"O5\",'abslog2Ratio'],order = ['alpha1','Vm1','h1','Km1','d1','alpha2','d2','Kf'],size=2, color=\"k\", linewidth=0,alpha = .2)\n",
    "ax5 = sns.boxplot(SubData_OID_50_type_update.loc[SubData_OID_50_type_update['LoopsLabel'] == \"O5\",'param'],SubData_OID_50_type_update.loc[SubData_OID_50_type_update['LoopsLabel'] == \"O5\",'abslog2Ratio'],palette = pal,fliersize = 0,linewidth=0.5)\n",
    "ax5.spines['right'].set_visible(False)\n",
    "ax5.spines['top'].set_visible(False)\n",
    "ax5.tick_params(length=2)\n",
    "ax5.set_xticklabels([r'$\\alpha$',r'$v$',r'$h$',r'$K_{r}$',r'$\\gamma$',r'$k_{p}$',r'$\\gamma_{f}$',r'$k_{f}$'])\n",
    "ax5.set_ylabel('')\n",
    "ax5.set_xlabel('Parameter')\n",
    "ax5.set_ylim([-0.5,4])\n",
    "#ax5.set_yscale('log')\n",
    "ax5.set_title('5 Loops',y = 0.85)\n",
    "\n",
    "for ax in [ax3, ax4]:\n",
    "    plt.setp(ax.get_xticklabels(), visible=False)\n",
    "    ax.set_xlabel('')\n",
    "\n",
    "\n",
    "\n",
    "plt.show()\n"
   ]
  }
 ],
 "metadata": {
  "anaconda-cloud": {},
  "kernelspec": {
   "display_name": "Python [default]",
   "language": "python",
   "name": "python3"
  },
  "language_info": {
   "codemirror_mode": {
    "name": "ipython",
    "version": 3
   },
   "file_extension": ".py",
   "mimetype": "text/x-python",
   "name": "python",
   "nbconvert_exporter": "python",
   "pygments_lexer": "ipython3",
   "version": "3.5.2"
  }
 },
 "nbformat": 4,
 "nbformat_minor": 1
}
